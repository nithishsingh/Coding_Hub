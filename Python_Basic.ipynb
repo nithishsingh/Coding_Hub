{
 "cells": [
  {
   "attachments": {},
   "cell_type": "markdown",
   "metadata": {},
   "source": [
    "# Python"
   ]
  },
  {
   "attachments": {},
   "cell_type": "markdown",
   "metadata": {},
   "source": [
    "## Resources"
   ]
  },
  {
   "attachments": {},
   "cell_type": "markdown",
   "metadata": {},
   "source": [
    "Where else to get help:\n",
    "\n",
    "● Python home page ­­ http://www.python.org\\\n",
    "● Python standard documentation ­­ http://www.python.org/doc/.\\\n",
    "You will also find links to tutorials there.\\\n",
    "● FAQs ­­ http://www.python.org/doc/faq/.\\\n",
    "● The Python Wiki ­­ http://wiki.python.org/\\\n",
    "● The Python Package Index ­­ Lots of Python packages ­\\ \n",
    "https://pypi.python.org/pypi\\\n",
    "● Special interest groups (SIGs) ­­ http://www.python.org/sigs/\\\n",
    "● Other python related mailing lists and lists for specific applications (for example,Zope, Twisted, etc). Try: http://dir.gmane.org/search.php?match=python.\\\n",
    "● http://sourceforge.net ­­ Lots of projects. Search for \"python\".\\\n",
    "● USENET ­­ comp.lang.python. Can also be accessed through Gmane: \\\n",
    "http://dir.gmane.org/gmane.comp.python.general.\\\n",
    "● The Python tutor email list ­­ http://mail.python.org/mailman/listinfo/tutor\\\n",
    "Local documentation:\\\n",
    "● On MS Windows, the Python documentation is installed with the standard \n",
    "installation.\\\n",
    "● Install the standard Python documentation on your machine from \n",
    "http://www.python.org/doc/.\\\n",
    "● pydoc. Example, on the command line, type: pydoc re.\\\n",
    "● Import a module, then view its .__doc__ attribute.\\\n",
    "● At the interactive prompt, use help(obj). You might need to import it first.\\ \n",
    "Example:\\\n",
    "`>>> import urllib`\\\n",
    "`>>> help(urllib)`\n"
   ]
  },
  {
   "attachments": {},
   "cell_type": "markdown",
   "metadata": {},
   "source": [
    "## An overview of Python"
   ]
  },
  {
   "attachments": {},
   "cell_type": "markdown",
   "metadata": {},
   "source": [
    "● A scripting language ­­ Python is suitable \\\n",
    "(1) for embedding, \\\n",
    "(2) for writing small unstructured scripts, \\\n",
    "(3) for \"quick and dirty\" programs.\\\n",
    "● Not a scripting language ­­ \\\n",
    "(1) Python scales. \\\n",
    "(2) Python encourages us to write code that is clear and well­structured.\\\n",
    "● Interpreted, but also compiled to byte­code. Modules are automatically compiled (to .pyc) when imported, but may also be explicitly compiled.\\\n",
    "● Provides an interactive command line and interpreter shell. In fact, there are several.\\\n",
    "● Dynamic ­­ For example:\\\n",
    "○ Types are bound to values, not to variables.\\\n",
    "○ Function and method lookup is done at runtime\\.\n",
    "○ Values are inspect­able.\\\n",
    "○ There is an interactive interpreter, more than one, in fact.\\\n",
    "○ You can list the methods supported by any given object.\\\n",
    "● Strongly typed at run­time, not compile­time. Objects (values) have a type, but variables do not.\\\n",
    "● Reasonably high level ­­ High level built­in data types; high level control \n",
    "structures (for walking lists and iterators, for example).\\\n",
    "● Object­oriented ­­ Almost everything is an object. Simple object definition. Data hiding by agreement. Multiple inheritance. Interfaces by convention. \n",
    "Polymorphism. \\\n",
    "● Highly structured ­­ Statements, functions, classes, modules, and packages enable us to write large, well­structured applications. Why structure? Readability, locate­ability, modifiability, Explicitness. "
   ]
  },
  {
   "attachments": {},
   "cell_type": "markdown",
   "metadata": {},
   "source": [
    "## Python Basic "
   ]
  },
  {
   "cell_type": "code",
   "execution_count": 9,
   "metadata": {},
   "outputs": [
    {
     "name": "stdout",
     "output_type": "stream",
     "text": [
      "23\n",
      "35\n",
      "256\n",
      "3.2857142857142856\n",
      "3\n"
     ]
    }
   ],
   "source": [
    "# Playing with Numbers\n",
    "print(2+3*7)\n",
    "print((2+3)*7) # based on precedence\n",
    "print(2**8)\n",
    "print(23/7)\n",
    "print(23//7)\n"
   ]
  },
  {
   "cell_type": "code",
   "execution_count": 16,
   "metadata": {},
   "outputs": [
    {
     "name": "stdout",
     "output_type": "stream",
     "text": [
      "Hello World!\n",
      "Hello World!\n",
      "Hello Jake's\n",
      "hello Jack's\n",
      "hello jake\n"
     ]
    }
   ],
   "source": [
    "print(\"Hello World!\")\n",
    "print('Hello World!')\n",
    "print(\"Hello Jake's\") # no need use \\ when we use \" \"\n",
    "print('hello Jack\\'s') # use \\ when use ' '\n",
    "\n"
   ]
  },
  {
   "cell_type": "code",
   "execution_count": null,
   "metadata": {},
   "outputs": [],
   "source": [
    "print('a'+'b')\n",
    "print('a'+2) # raise Type error"
   ]
  },
  {
   "cell_type": "code",
   "execution_count": 24,
   "metadata": {},
   "outputs": [
    {
     "name": "stdout",
     "output_type": "stream",
     "text": [
      "40\n",
      "a\n",
      "70\n",
      "ab\n"
     ]
    }
   ],
   "source": [
    "# storing value in Variables\n",
    "spam = 40\n",
    "print(spam)\n",
    "var1='a'\n",
    "print(var1)\n",
    "sp= 30\n",
    "var2='b'\n",
    "print(spam+sp)  # addding of int Type Variable\n",
    "print(var1+var2) #adding of Str Type Variable\n",
    "\n",
    "# when We try to add two differnt type variable, raise Type Error\n"
   ]
  },
  {
   "cell_type": "code",
   "execution_count": 27,
   "metadata": {},
   "outputs": [
    {
     "name": "stdout",
     "output_type": "stream",
     "text": [
      "[1, 2, 2, 3, 4, 'a', '.4']\n",
      "{1: 'a', 2: 'b'}\n"
     ]
    }
   ],
   "source": [
    "list = [1,2,2,3,4,'a','.4']  # list of variable\n",
    "dict1={1:'a',2:'b'}\n",
    "\n",
    "print(list)\n",
    "print(dict1)\n"
   ]
  },
  {
   "cell_type": "code",
   "execution_count": 2,
   "metadata": {},
   "outputs": [
    {
     "name": "stdout",
     "output_type": "stream",
     "text": [
      "nithish\n"
     ]
    }
   ],
   "source": [
    "#how to get input in Python\n",
    "\n",
    "Name= input()\n",
    "print(Name)"
   ]
  },
  {
   "cell_type": "code",
   "execution_count": null,
   "metadata": {},
   "outputs": [],
   "source": []
  }
 ],
 "metadata": {
  "kernelspec": {
   "display_name": "Python 3",
   "language": "python",
   "name": "python3"
  },
  "language_info": {
   "codemirror_mode": {
    "name": "ipython",
    "version": 3
   },
   "file_extension": ".py",
   "mimetype": "text/x-python",
   "name": "python",
   "nbconvert_exporter": "python",
   "pygments_lexer": "ipython3",
   "version": "3.10.4"
  },
  "orig_nbformat": 4,
  "vscode": {
   "interpreter": {
    "hash": "26de051ba29f2982a8de78e945f0abaf191376122a1563185a90213a26c5da77"
   }
  }
 },
 "nbformat": 4,
 "nbformat_minor": 2
}
